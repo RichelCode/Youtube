{
 "cells": [
  {
   "cell_type": "markdown",
   "id": "9a0a8704-2303-4afd-822c-78a80e22154f",
   "metadata": {},
   "source": [
    "# Python for Beginners — Lesson 02: Working with Numbers and Strings"
   ]
  },
  {
   "cell_type": "markdown",
   "id": "122d771f-58d9-40fe-9f95-cb36ab87b333",
   "metadata": {},
   "source": [
    "## What You’ll Learn\n",
    "\n",
    "1. Perform basic math with numbers in Python\n",
    "\n",
    "2. Understand order of operations (operator precedence)\n",
    "\n",
    "3. with strings (combine and repeat text)\n",
    "\n",
    "4. Convert between numbers and text"
   ]
  },
  {
   "cell_type": "markdown",
   "id": "bcdd5a48-f841-4098-9d88-fc6e8e87d4e8",
   "metadata": {},
   "source": [
    "## Working with Numbers"
   ]
  },
  {
   "cell_type": "markdown",
   "id": "6a19624a-9340-489e-83f8-42aca056f9c8",
   "metadata": {},
   "source": [
    "| Operator | Meaning             |   \n",
    "| -------- | ------------------- | \n",
    "| `+`      | Addition            |\n",
    "| `-`      | Subtraction         |\n",
    "| `*`      | Multiplication      | \n",
    "| `/`      | Division            |\n",
    "| `//`     | Floor Division      |\n",
    "| `%`      | Modulus (remainder) | \n",
    "| `**`     | Exponent            |"
   ]
  },
  {
   "cell_type": "code",
   "execution_count": null,
   "id": "1b83680e-0ca7-4093-a154-01f1416e01e4",
   "metadata": {},
   "outputs": [],
   "source": [
    "a = 10\n",
    "b = 3\n",
    "\n",
    "print(a + b)   # addition\n",
    "print(a - b)   # subtraction\n",
    "print(a * b)   # multiplication\n",
    "print(a / b)   # division (float result)\n",
    "print(a // b)  # floor division (whole number)\n",
    "print(a % b)   # remainder\n",
    "print(a ** b)  # exponent (10^3)"
   ]
  },
  {
   "cell_type": "markdown",
   "id": "87864dc5-2d4e-4709-9beb-f9d5067062c4",
   "metadata": {},
   "source": [
    "## Operator Precedence (Order of Operations) \n",
    "Why precedence exists\n",
    "\n",
    "When an expression has several operators, Python needs a rule for which parts to evaluate first. These rules mirror standard math so results are predictable and consistent.\n",
    "\n",
    "The arithmetic ladder in Python (highest → lowest)\n",
    "\n",
    "1. Parentheses (...) — always evaluated first\n",
    "\n",
    "2. Exponent ** \n",
    "\n",
    "3. Multiplication and Division group *, /, //, % \n",
    "\n",
    "4. Addition and Subtraction group +, - — "
   ]
  },
  {
   "cell_type": "code",
   "execution_count": null,
   "id": "41c19f13-327e-436c-86b1-e8c917c26977",
   "metadata": {},
   "outputs": [],
   "source": [
    "## Examples\n",
    "print((2 + 3) * 4)        "
   ]
  },
  {
   "cell_type": "markdown",
   "id": "ca9b46cd-9aed-4778-86d0-07b915e3fe38",
   "metadata": {},
   "source": [
    "##### Mental model \n",
    "\n",
    "PEMDAS is a good memory aid."
   ]
  },
  {
   "cell_type": "code",
   "execution_count": null,
   "id": "bae9ce4c-8cde-4b65-a44a-1653456b538d",
   "metadata": {},
   "outputs": [],
   "source": [
    "## More Examples\n",
    "\n",
    "print(5 + 2 * 3 ** 2)     \n",
    "print((5 + 2) * 3 ** 2)    \n",
    "print(5 + (2 * 3) ** 2)    \n",
    "print(-3 ** 3)             \n",
    "print((-3) ** 3)           \n",
    "print(14 % 4 * 2)          \n",
    "print(14 % (4 * 2))    "
   ]
  },
  {
   "cell_type": "markdown",
   "id": "713ea8eb-9bdb-4bc1-a03b-d4ca507f7f22",
   "metadata": {},
   "source": [
    "## Working with Strings"
   ]
  },
  {
   "cell_type": "markdown",
   "id": "ad4317a0-0154-4253-ab79-457689313f97",
   "metadata": {},
   "source": [
    "Strings are text inside quotes. You can join (concatenate) or repeat them."
   ]
  },
  {
   "cell_type": "code",
   "execution_count": null,
   "id": "ab21c6f0-0eb4-4fe2-afbb-5c7e6e873a64",
   "metadata": {},
   "outputs": [],
   "source": [
    "first_name = \"Richel\"\n",
    "last_name = \"Attafuah\"\n",
    "\n",
    "# Concatenation\n",
    "print(first_name + \" \" + last_name)\n",
    "\n",
    "# Repetition\n",
    "print(\"Hi! \" * 3)\n"
   ]
  },
  {
   "cell_type": "markdown",
   "id": "11ebe0db-1850-465d-abc7-b91dde008ee7",
   "metadata": {},
   "source": [
    "## Converting Between Types"
   ]
  },
  {
   "cell_type": "markdown",
   "id": "2128d104-32c8-4024-8799-5bea2035357f",
   "metadata": {},
   "source": [
    "Sometimes you need to change a number into text, or text into a number.\n",
    "\n",
    "1. str() → number → text\n",
    "\n",
    "2. int() → text/float → integer\n",
    "\n",
    "3. float() → text/int → decimal"
   ]
  },
  {
   "cell_type": "code",
   "execution_count": null,
   "id": "455135ae-81e8-475f-8e6e-94aa89328739",
   "metadata": {},
   "outputs": [],
   "source": [
    "age = 25\n",
    "\n",
    "# int → str\n",
    "print(\"I am \" + str(age) + \" years old\")\n",
    "\n",
    "# str → int\n",
    "print(int(\"5\") + 10)\n",
    "\n",
    "# str → float\n",
    "print(float(\"3.14\") * 2)\n"
   ]
  }
 ],
 "metadata": {
  "kernelspec": {
   "display_name": "Python 3 (ipykernel)",
   "language": "python",
   "name": "python3"
  },
  "language_info": {
   "codemirror_mode": {
    "name": "ipython",
    "version": 3
   },
   "file_extension": ".py",
   "mimetype": "text/x-python",
   "name": "python",
   "nbconvert_exporter": "python",
   "pygments_lexer": "ipython3",
   "version": "3.12.7"
  }
 },
 "nbformat": 4,
 "nbformat_minor": 5
}
