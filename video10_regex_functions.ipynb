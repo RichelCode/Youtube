{
 "cells": [
  {
   "cell_type": "markdown",
   "id": "bbf5c302",
   "metadata": {},
   "source": [
    "# Python for Beginners — Lesson 10: Regular Expressions in Python\n",
    "**What you will learn in this video:**\n",
    "- What a regular expression is and why it's useful.\n",
    "- How to import the `re` module and use functions like `findall`, `search`, `split` and `sub`.\n",
    "- Understand basic metacharacters (`.`, `^`, `$`, `*`, `+`, `?`, etc.).\n",
    "- Use special sequences such as `\\d`, `\\w`, and `\\s`.\n",
    "- Apply flags like `IGNORECASE` for case-insensitive matching.\n",
    "\n",
    " **Tip:** Imagine regex as a powerful search engine that understands patterns instead of exact text. It can find words, numbers or formats inside strings based on rules you define.\n"
   ]
  },
  {
   "cell_type": "markdown",
   "id": "c6a37b4c",
   "metadata": {},
   "source": [
    "# Introduction to Regular Expressions in Python\n",
    "\n",
    "A **regular expression** (or *regex*) is a sequence of characters that defines a search pattern . You can use regexes to check whether a string contains a pattern, extract matching parts, or replace parts of a string. Python provides built‑in support for regular expressions through the `re` module .\n"
   ]
  },
  {
   "cell_type": "code",
   "execution_count": 1,
   "id": "2f28639c",
   "metadata": {},
   "outputs": [],
   "source": [
    "import re  # Import the regular expression module\n"
   ]
  },
  {
   "cell_type": "markdown",
   "id": "986a8759",
   "metadata": {},
   "source": [
    "## Basic functions\n",
    "\n",
    "The `re` module offers several functions for working with regular expressions【282892803799340†L922-L933】:\n",
    "\n",
    "* `re.findall(pattern, string)` – returns a list containing all matches.\n",
    "* `re.search(pattern, string)` – returns a match object for the first match (or `None` if there is no match).\n",
    "* `re.split(pattern, string)` – splits the string by matches of the pattern.\n",
    "* `re.sub(pattern, replacement, string)` – replaces one or many matches with a replacement.\n"
   ]
  },
  {
   "cell_type": "code",
   "execution_count": 2,
   "id": "ec337a98",
   "metadata": {},
   "outputs": [
    {
     "name": "stdout",
     "output_type": "stream",
     "text": [
      "['in', 'in', 'in', 'in', 'in', 'in']\n",
      "Match found? False\n",
      "['The', 'rain', 'in', 'Spain', 'falls', 'mainly', 'in', 'the', 'plain', '123.']\n",
      "The rain in Spain falls mainly in the plain ###.\n"
     ]
    }
   ],
   "source": [
    "text = \"The rain in Spain falls mainly in the plain 123.\"\n",
    "\n",
    "# findall: find all occurrences of 'in'\n",
    "print(re.findall(r\"in\", text))\n",
    "\n",
    "# search: check if string starts with 'The' and ends with 'Spain'\n",
    "match = re.search(r\"^The.*Spain$\", text)\n",
    "print(\"Match found?\", bool(match))\n",
    "\n",
    "# split: split by whitespace\n",
    "print(re.split(r\"\\s+\", text))\n",
    "\n",
    "# sub: replace digits with '#'\n",
    "print(re.sub(r\"\\d\", \"#\", text))\n"
   ]
  },
  {
   "cell_type": "markdown",
   "id": "4af529e2",
   "metadata": {},
   "source": [
    "## Metacharacters\n",
    "\n",
    "Regex patterns include special symbols called *metacharacters* that describe complex search criteria【282892803799340†L940-L956】:\n",
    "\n",
    "* `.` – matches any character except newline.\n",
    "* `^` – matches the start of the string.\n",
    "* `$` – matches the end of the string.\n",
    "* `*` – matches zero or more occurrences of the preceding pattern.\n",
    "* `+` – matches one or more occurrences.\n",
    "* `?` – matches zero or one occurrence.\n",
    "* `{n}` – matches exactly `n` repetitions.\n",
    "* `|` – acts like “or” between patterns.\n",
    "* `()` – groups patterns together.\n"
   ]
  },
  {
   "cell_type": "code",
   "execution_count": 3,
   "id": "5f55ffbb",
   "metadata": {},
   "outputs": [
    {
     "name": "stdout",
     "output_type": "stream",
     "text": [
      "['hello']\n",
      "['hello helo heeeello']\n",
      "['hello helo heeeello']\n",
      "['helo']\n"
     ]
    }
   ],
   "source": [
    "text2 = \"hello helo heeeello\"\n",
    "\n",
    "# . matches any character\n",
    "print(re.findall(r\"he..o\", text2))  # matches 'hello'\n",
    "\n",
    "# * matches zero or more\n",
    "print(re.findall(r\"he.*o\", text2))  # matches from 'helo' to 'heeeello'\n",
    "\n",
    "# + matches one or more\n",
    "print(re.findall(r\"he.+o\", text2))  # requires at least one character between\n",
    "\n",
    "# ? matches zero or one\n",
    "print(re.findall(r\"he.?o\", text2))  # matches 'helo' and 'hello'\n"
   ]
  },
  {
   "cell_type": "markdown",
   "id": "ab306f00",
   "metadata": {},
   "source": [
    "## Special sequences\n",
    "\n",
    "Special sequences start with a backslash (`\\`) and represent common character classes【282892803799340†L980-L1018】:\n",
    "\n",
    "* `\\d` – matches any digit (0–9).\n",
    "* `\\D` – matches any non‑digit.\n",
    "* `\\w` – matches any word character (letters, digits, underscore).\n",
    "* `\\W` – matches any non‑word character.\n",
    "* `\\s` – matches any whitespace character (space, tab, newline).\n",
    "* `\\S` – matches any non‑whitespace character.\n"
   ]
  },
  {
   "cell_type": "code",
   "execution_count": 6,
   "id": "1e29aa7a",
   "metadata": {},
   "outputs": [
    {
     "name": "stdout",
     "output_type": "stream",
     "text": [
      "['01', '98']\n",
      "['User_01', 'scored', '98', 'points']\n",
      "[' ', ' ', ' ']\n"
     ]
    }
   ],
   "source": [
    "text3 = \"User_01 scored 98 points.\"\n",
    "\"Next user scored 87.\"\n",
    "\n",
    "# find all digits\n",
    "print(re.findall(r\"\\d+\", text3))\n",
    "\n",
    "# find all words\n",
    "print(re.findall(r\"\\w+\", text3))\n",
    "\n",
    "# find whitespace characters\n",
    "print(re.findall(r\"\\s\", text3))\n"
   ]
  },
  {
   "cell_type": "markdown",
   "id": "5fd92303",
   "metadata": {},
   "source": [
    "## Flags\n",
    "\n",
    "Regex *flags* modify how patterns are interpreted. For example, `re.IGNORECASE` makes matching case‑insensitive. You can pass a flag as a third argument to functions like `re.search()` or include it inline.\n"
   ]
  },
  {
   "cell_type": "code",
   "execution_count": 7,
   "id": "dd70b37c",
   "metadata": {},
   "outputs": [
    {
     "name": "stdout",
     "output_type": "stream",
     "text": [
      "['Python', 'PYTHON']\n"
     ]
    }
   ],
   "source": [
    "# Case-insensitive search\n",
    "text4 = \"Python is fun. PYTHON regex is powerful.\"\n",
    "print(re.findall(r\"python\", text4, re.IGNORECASE))\n"
   ]
  },
  {
   "cell_type": "code",
   "execution_count": null,
   "id": "c0128fca-4602-419f-8aa3-fa2646116544",
   "metadata": {},
   "outputs": [],
   "source": []
  }
 ],
 "metadata": {
  "kernelspec": {
   "display_name": "Python 3 (ipykernel)",
   "language": "python",
   "name": "python3"
  },
  "language_info": {
   "codemirror_mode": {
    "name": "ipython",
    "version": 3
   },
   "file_extension": ".py",
   "mimetype": "text/x-python",
   "name": "python",
   "nbconvert_exporter": "python",
   "pygments_lexer": "ipython3",
   "version": "3.12.7"
  }
 },
 "nbformat": 4,
 "nbformat_minor": 5
}
