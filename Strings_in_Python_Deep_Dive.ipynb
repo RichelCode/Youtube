{
 "cells": [
  {
   "cell_type": "markdown",
   "id": "e9877dd1",
   "metadata": {},
   "source": [
    "# Python for Beginners — Lesson 07: Strings in Python\n",
    "\n",
    "**What you'll learn**\n",
    "- What strings are and why they matter\n",
    "- Indexing and slicing\n",
    "- Immutability and safe editing\n",
    "- Useful string methods (cleaning and searching)\n",
    "- Splitting and joining\n",
    "- f‑strings for friendly formatting\n",
    "- Escape sequences, raw strings, and emojis\n",
    "- Mini practice tasks with answers\n"
   ]
  },
  {
   "cell_type": "markdown",
   "id": "1e4f0cb2",
   "metadata": {},
   "source": [
    "## 1. What is a string?\n",
    "A **string** is text inside quotes. Single `'...'` or double `\"...\"` quotes both work."
   ]
  },
  {
   "cell_type": "code",
   "execution_count": null,
   "id": "93e781d0",
   "metadata": {},
   "outputs": [],
   "source": [
    "name = \"Richel\"\n",
    "quote = 'Python is fun!'\n",
    "print(name)\n",
    "print(quote)"
   ]
  },
  {
   "cell_type": "markdown",
   "id": "ebca30d9",
   "metadata": {},
   "source": [
    "### Real life analogy\n",
    "Think of a string as a **bracelet of letter beads**. Each bead has a position you can point to (index)."
   ]
  },
  {
   "cell_type": "markdown",
   "id": "ef5fb426",
   "metadata": {},
   "source": [
    "## 2. Indexing and slicing\n",
    "- Indexing starts at **0**.\n",
    "- Negative indices start from the end.\n",
    "- Slicing uses `text[start:stop:step]` (stop is excluded)."
   ]
  },
  {
   "cell_type": "code",
   "execution_count": null,
   "id": "dff6ac6c",
   "metadata": {},
   "outputs": [],
   "source": [
    "city = \"Cincinnati\"\n",
    "print(city[0])      # first letter\n",
    "print(city[-1])     # last letter\n",
    "print(city[0:4])    # from 0 up to 4 (not including 4)\n",
    "print(city[::2])    # every 2nd letter\n",
    "print(city[::-1])   # reversed"
   ]
  },
  {
   "cell_type": "markdown",
   "id": "845bc3b8",
   "metadata": {},
   "source": [
    "## 3. Strings are immutable\n",
    "You cannot change them in place, but you can build a **new** string."
   ]
  },
  {
   "cell_type": "code",
   "execution_count": null,
   "id": "c8d83536",
   "metadata": {},
   "outputs": [],
   "source": [
    "greet = \"Hello\"\n",
    "# greet[0] = \"Y\"  #  TypeError\n",
    "new_greet = \"Y\" + greet[1:]\n",
    "print(new_greet)"
   ]
  },
  {
   "cell_type": "markdown",
   "id": "9cca1b72",
   "metadata": {},
   "source": [
    "## 4. Concatenation and repetition"
   ]
  },
  {
   "cell_type": "code",
   "execution_count": null,
   "id": "d0521363",
   "metadata": {},
   "outputs": [],
   "source": [
    "first = \"Richel\"\n",
    "last  = \"Attafuah\"\n",
    "full = first + \" \" + last\n",
    "print(full)\n",
    "print(\"ha\" * 3)  # repeat"
   ]
  },
  {
   "cell_type": "markdown",
   "id": "79a91b50",
   "metadata": {},
   "source": [
    "## 5. Must‑know string methods\n",
    "These help with cleaning, searching, and transforming text."
   ]
  },
  {
   "cell_type": "code",
   "execution_count": null,
   "id": "658abb41",
   "metadata": {},
   "outputs": [],
   "source": [
    "# Cleaning\n",
    "messy = \"  Hello, WORLD!!  \"\\nprint(messy.strip())     # remove edges\n",
    "print(messy.lower())     # to lowercase\n",
    "print(messy.upper())     # to uppercase\n",
    "print(messy.title())     # Title Case\n",
    "\n",
    "# Finding & replacing\n",
    "text = \"data, data, more data\"\n",
    "print(text.count(\"data\"))\n",
    "print(text.find(\"more\"))      # -1 if not found\n",
    "print(text.replace(\"data\", \"info\", 2))\n",
    "\n",
    "# Starts/ends\n",
    "url = \"https://example.com\"\n",
    "print(url.startswith(\"https\"))\n",
    "print(url.endswith(\".com\"))"
   ]
  },
  {
   "cell_type": "markdown",
   "id": "2888613f",
   "metadata": {},
   "source": [
    "## 6. Split and join\n",
    "Split breaks a string into pieces (list). Join glues a list back into a string."
   ]
  },
  {
   "cell_type": "code",
   "execution_count": null,
   "id": "9f5d448c",
   "metadata": {},
   "outputs": [],
   "source": [
    "sentence = \"apples,bananas,grapes\"\n",
    "parts = sentence.split(\",\")\n",
    "print(parts)\n",
    "joined = \" | \".join(parts)\n",
    "print(joined)"
   ]
  },
  {
   "cell_type": "markdown",
   "id": "8f5d351b",
   "metadata": {},
   "source": [
    "## 7. f‑Strings (formatted strings)\n",
    "Use `f\"...{variable}...\"` to build readable messages. You can also format numbers."
   ]
  },
  {
   "cell_type": "code",
   "execution_count": null,
   "id": "46212cbf",
   "metadata": {},
   "outputs": [],
   "source": [
    "name = \"Richel\"\n",
    "score = 95.6789\n",
    "print(f\"Hi {name}, your score is {score:.1f}.\")\n",
    "price = 1499.5\n",
    "print(f\"Price: ${price:,.2f}\")"
   ]
  },
  {
   "cell_type": "markdown",
   "id": "cba76904",
   "metadata": {},
   "source": [
    "## 8. Escape sequences and raw strings\n",
    "- `\\n` new line, `\\t` tab, `\\\"` quote\n",
    "- Raw strings `r\"...\"` keep backslashes as they are (great for Windows paths or regex)."
   ]
  },
  {
   "cell_type": "code",
   "execution_count": null,
   "id": "23f5ea37",
   "metadata": {},
   "outputs": [],
   "source": [
    "print(\"Line1\\nLine2\")\n",
    "print(\"A\\tB\\tC\")\n",
    "print(\"She said: \\\"Hello!\\\"\")\n",
    "\n",
    "windows_path = r\"C:\\Users\\richel\\Documents\"\n",
    "print(windows_path)"
   ]
  }
 ],
 "metadata": {
  "authors": [
   {
    "name": "Richel Ohenewaa Attafuah"
   }
  ],
  "colab": {
   "name": "Strings in Python — Deep Dive"
  },
  "kernelspec": {
   "display_name": "Python 3 (ipykernel)",
   "language": "python",
   "name": "python3"
  },
  "language_info": {
   "codemirror_mode": {
    "name": "ipython",
    "version": 3
   },
   "file_extension": ".py",
   "mimetype": "text/x-python",
   "name": "python",
   "nbconvert_exporter": "python",
   "pygments_lexer": "ipython3",
   "version": "3.12.7"
  }
 },
 "nbformat": 4,
 "nbformat_minor": 5
}
