{
 "cells": [
  {
   "cell_type": "markdown",
   "id": "7b4c82e0",
   "metadata": {},
   "source": [
    "# Python for Beginners - Lesson 8 (File Handling in Python)\n",
    "\n",
    "### Learning Outcomes\n",
    "\n",
    "By the end of this lesson, you will be able to:\n",
    "\n",
    "1. Understand what files are and why they are important for saving and reusing data.\n",
    "2. Open and read text files using the open() function.\n",
    "3. Write new files and add to existing ones using write ('w') and append ('a') modes.\n",
    "4. Use the with open() syntax to read and write files safely without closing them manually.\n",
    "5. Read files line by line for better memory use with large files.\n",
    "6. Recognize common file operations (r, w, a) and basic best practices for handling text data in Python.\n"
   ]
  },
  {
   "cell_type": "markdown",
   "id": "b980b1e6-e3c0-408e-97cb-205f07e50dcc",
   "metadata": {},
   "source": [
    "## What is a file?"
   ]
  },
  {
   "cell_type": "markdown",
   "id": "27e284ca-ed52-432c-a75f-b91a0e0a8060",
   "metadata": {},
   "source": [
    "A file is where we store data permanently ;  like notes, reports, or logs. Python can open, read, and write files for us."
   ]
  },
  {
   "cell_type": "markdown",
   "id": "222151cf-4432-4827-b2fa-08a4fbd1a375",
   "metadata": {},
   "source": [
    "## Create a simple text file"
   ]
  },
  {
   "cell_type": "code",
   "execution_count": null,
   "id": "9004914f-a105-4444-9826-a7f6142a60cd",
   "metadata": {},
   "outputs": [],
   "source": [
    "# Create a text file\n",
    "file = open(\"notes.txt\", \"w\")  # 'w' means write mode\n",
    "file.write(\"Hello, Python learner!\\nThis is your first file.\")\n",
    "file.close()"
   ]
  },
  {
   "cell_type": "code",
   "execution_count": null,
   "id": "7139c22f-5d57-49ba-adad-b0bb367e69b7",
   "metadata": {},
   "outputs": [],
   "source": [
    "# Let's check if it worked\n",
    "file = open(\"notes.txt\", \"r\")  # 'r' means read mode\n",
    "print(file.read())\n",
    "file.close() # very key so the file is closed"
   ]
  },
  {
   "cell_type": "code",
   "execution_count": null,
   "id": "57f5fe5b-7293-48ef-a13d-07f500a0e59f",
   "metadata": {},
   "outputs": [],
   "source": [
    "## Another Simpler way for reading the file \n",
    "with open(\"notes.txt\", \"r\") as file:\n",
    "    content = file.read()\n",
    "    print(content)  #Using \"with\" automatically closes the file, even if something goes wrong. That’s the best practice."
   ]
  },
  {
   "cell_type": "markdown",
   "id": "dbddecce-d4c3-4996-a9b1-b0e1f91f683b",
   "metadata": {},
   "source": [
    "## Writing and appending text"
   ]
  },
  {
   "cell_type": "code",
   "execution_count": null,
   "id": "0753c002-57c6-4009-92ef-50916f83c8bd",
   "metadata": {},
   "outputs": [],
   "source": [
    "# Write (overwrites existing content)\n",
    "with open(\"notes.txt\", \"w\") as file:\n",
    "    file.write(\"This will replace everything inside!\")\n",
    "\n",
    "# Append (adds more lines)\n",
    "with open(\"notes.txt\", \"a\") as file:\n",
    "    file.write(\"\\nThis line is added at the end.\")\n",
    "\n",
    "# Read again\n",
    "with open(\"notes.txt\", \"r\") as file:\n",
    "    print(file.read())\n"
   ]
  },
  {
   "cell_type": "markdown",
   "id": "d79599a5-2c66-4117-94c1-4f2724015180",
   "metadata": {},
   "source": [
    "## 'w' means write, 'a' means append. Append is great when you want to keep your old content and add new stuff."
   ]
  },
  {
   "cell_type": "markdown",
   "id": "236f681f-4ba6-41d4-a699-eaedf42965fe",
   "metadata": {},
   "source": [
    "# Reading line by line"
   ]
  },
  {
   "cell_type": "markdown",
   "id": "42ae2962-69e1-48cc-8548-38585d5cb5ea",
   "metadata": {},
   "source": [
    "## When a file is big, it’s better to read it one line at a time."
   ]
  },
  {
   "cell_type": "code",
   "execution_count": null,
   "id": "2ddb6746-b748-4bb9-b11c-0e648eb9fd0f",
   "metadata": {},
   "outputs": [],
   "source": [
    "with open(\"notes.txt\", \"r\") as file:\n",
    "    for line in file:\n",
    "        print(line.strip())  # strip removes \\n"
   ]
  }
 ],
 "metadata": {
  "kernelspec": {
   "display_name": "Python 3 (ipykernel)",
   "language": "python",
   "name": "python3"
  },
  "language_info": {
   "codemirror_mode": {
    "name": "ipython",
    "version": 3
   },
   "file_extension": ".py",
   "mimetype": "text/x-python",
   "name": "python",
   "nbconvert_exporter": "python",
   "pygments_lexer": "ipython3",
   "version": "3.12.7"
  }
 },
 "nbformat": 4,
 "nbformat_minor": 5
}
