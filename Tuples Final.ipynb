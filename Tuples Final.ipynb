{
 "cells": [
  {
   "cell_type": "markdown",
   "id": "7d4d3018-3b1a-41c5-98ea-7c3a7595823d",
   "metadata": {},
   "source": [
    "# Python for Beginners - Lesson 9( Tuples in Python)"
   ]
  },
  {
   "cell_type": "markdown",
   "id": "477473bc-7e67-4e5a-83a5-af9b009984eb",
   "metadata": {},
   "source": [
    "# Lesson: Tuples in Python\n",
    "\n",
    "Tuples are one of Python's basic data structures. \n",
    "They look similar to lists but are **immutable**, which means once you create them, you cannot change their values.\n",
    "\n",
    "\n",
    "### Learning Outcomes\n",
    "\n",
    "By the end of this lesson, you will be able to:\n",
    "\n",
    "1. Create tuples and understand their structure.\n",
    "2. Know the difference between lists and tuples.\n",
    "3. Access and slice tuple elements.\n",
    "4. Unpack tuples into separate variables.\n",
    "5. Use tuples to return multiple values from a function.\n",
    "6. Recognize when tuples are better than lists.\n"
   ]
  },
  {
   "cell_type": "code",
   "execution_count": null,
   "id": "c86905e0-2844-4e04-8cdf-cda9a0e35796",
   "metadata": {},
   "outputs": [],
   "source": [
    "# 1. Creating a tuple\n",
    "numbers = (1, 2, 3, 4)\n",
    "fruits = (\"apple\", \"banana\", \"cherry\")\n",
    "print(numbers)\n",
    "print(fruits)"
   ]
  },
  {
   "cell_type": "code",
   "execution_count": null,
   "id": "dc084412-4d9f-4afa-9d83-da13956a1bb9",
   "metadata": {},
   "outputs": [],
   "source": [
    "# 2. Accessing items\n",
    "print(fruits[0])    # First item\n",
    "print(fruits[-1])   # Last item\n",
    "print(fruits[1:3])  # Slice from index 1 to 2\n"
   ]
  },
  {
   "cell_type": "code",
   "execution_count": null,
   "id": "14a6c76b-e900-41ed-8c86-8e1823345aef",
   "metadata": {},
   "outputs": [],
   "source": [
    "# 3. Tuples vs Lists\n",
    "my_list = [1, 2, 3]\n",
    "my_tuple = (1, 2, 3)\n",
    "\n",
    "my_list[0] = 10      # This works\n",
    "# my_tuple[0] = 10   # This will cause an error\n",
    "\n",
    "print(\"List after change:\", my_list)\n",
    "print(\"Tuple stays the same:\", my_tuple)\n"
   ]
  },
  {
   "cell_type": "code",
   "execution_count": null,
   "id": "4ac09208-909e-4691-b21b-76ce59f29abe",
   "metadata": {},
   "outputs": [],
   "source": [
    "# 4. Tuple unpacking\n",
    "person = (\"Ama\", 25, \"Accra\")\n",
    "name, age, city = person\n",
    "print(name)\n",
    "print(age)\n",
    "print(city)\n"
   ]
  },
  {
   "cell_type": "code",
   "execution_count": null,
   "id": "ff21bd51-c30a-4b6e-afb0-ff0a4ec33b71",
   "metadata": {},
   "outputs": [],
   "source": [
    "# 5. Single-element tuple\n",
    "one_number = (5,)\n",
    "not_a_tuple = (5)\n",
    "\n",
    "print(type(one_number))   # tuple\n",
    "print(type(not_a_tuple))  # int"
   ]
  },
  {
   "cell_type": "code",
   "execution_count": null,
   "id": "eaf269b3-2da6-4dca-912b-de5ef55cfb13",
   "metadata": {},
   "outputs": [],
   "source": [
    "# 6. Returning multiple values using tuples\n",
    "def get_student_info():\n",
    "    name = \"Kojo\"\n",
    "    age = 21\n",
    "    grade = \"A\"\n",
    "    return name, age, grade  # returning as a tuple\n",
    "\n",
    "info = get_student_info()\n",
    "print(info)\n",
    "\n",
    "# Tuple unpacking again\n",
    "student_name, student_age, student_grade = get_student_info()\n",
    "print(student_name)\n",
    "print(student_age)\n",
    "print(student_grade)\n"
   ]
  },
  {
   "cell_type": "markdown",
   "id": "cf436bae-db41-41fa-affc-74cc6e1802da",
   "metadata": {},
   "source": [
    "### Recap\n",
    "\n",
    "- Tuples are ordered and immutable.\n",
    "- They are created using parentheses ().\n",
    "- Use them when you want data that should not change.\n",
    "- You can unpack tuples easily into variables.\n",
    "- Functions often return tuples when multiple values are needed.\n",
    "\n",
    "Try this:\n",
    "Create a tuple called `book` with title, author, and year, then unpack and print each value.\n"
   ]
  }
 ],
 "metadata": {
  "kernelspec": {
   "display_name": "Python 3 (ipykernel)",
   "language": "python",
   "name": "python3"
  },
  "language_info": {
   "codemirror_mode": {
    "name": "ipython",
    "version": 3
   },
   "file_extension": ".py",
   "mimetype": "text/x-python",
   "name": "python",
   "nbconvert_exporter": "python",
   "pygments_lexer": "ipython3",
   "version": "3.12.7"
  }
 },
 "nbformat": 4,
 "nbformat_minor": 5
}
