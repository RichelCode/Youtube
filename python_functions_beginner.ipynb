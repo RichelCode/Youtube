{
 "cells": [
  {
   "cell_type": "markdown",
   "id": "71d09dc2",
   "metadata": {},
   "source": [
    "## Python for Beginners  - Lesson 06 (Functions in Python) \n",
    "\n",
    "In this notebook, we will learn the basics of Python functions.\n",
    "\n",
    "### What you'll learn:\n",
    "1. What a function is\n",
    "2. How to define a function\n",
    "3. How to call (use) a function\n",
    "4. Functions with parameters (inputs)\n",
    "5. Functions with return values (outputs)\n",
    "6. Practice exercises\n"
   ]
  },
  {
   "cell_type": "markdown",
   "id": "c33ee794",
   "metadata": {},
   "source": [
    "## 1. What is a Function?\n",
    "\n",
    "A **function** is a block of code that only runs when it is called. Functions help us organize and reuse code."
   ]
  },
  {
   "cell_type": "markdown",
   "id": "82429579",
   "metadata": {},
   "source": [
    "## 2. Defining and Calling a Function\n",
    "We use the `def` keyword to create a function."
   ]
  },
  {
   "cell_type": "code",
   "execution_count": null,
   "id": "e509df8b",
   "metadata": {},
   "outputs": [],
   "source": [
    "def greet():\n",
    "    print(\"Hello, welcome to Python functions!\")\n",
    "\n",
    "# Call the function\n",
    "greet()"
   ]
  },
  {
   "cell_type": "markdown",
   "id": "36d6ae8f",
   "metadata": {},
   "source": [
    "## 3. Functions with Parameters (Inputs)\n",
    "We can give information to a function using **parameters**."
   ]
  },
  {
   "cell_type": "code",
   "execution_count": null,
   "id": "c4d89a34",
   "metadata": {},
   "outputs": [],
   "source": [
    "def greet_user(name):\n",
    "    print(\"Hello, \" + name + \"!\")\n",
    "\n",
    "greet_user(\"Richel\")\n",
    "greet_user(\"Alice\")"
   ]
  },
  {
   "cell_type": "markdown",
   "id": "2ff07067",
   "metadata": {},
   "source": [
    "## 4. Functions with Return Values (Outputs)\n",
    "A function can send back a value using the `return` keyword."
   ]
  },
  {
   "cell_type": "code",
   "execution_count": null,
   "id": "7c0d5cd2",
   "metadata": {},
   "outputs": [],
   "source": [
    "def add_numbers(a, b):\n",
    "    return a + b\n",
    "\n",
    "result = add_numbers(3, 5)\n",
    "print(\"The sum is:\", result)"
   ]
  }
 ],
 "metadata": {
  "kernelspec": {
   "display_name": "Python 3 (ipykernel)",
   "language": "python",
   "name": "python3"
  },
  "language_info": {
   "codemirror_mode": {
    "name": "ipython",
    "version": 3
   },
   "file_extension": ".py",
   "mimetype": "text/x-python",
   "name": "python",
   "nbconvert_exporter": "python",
   "pygments_lexer": "ipython3",
   "version": "3.12.7"
  }
 },
 "nbformat": 4,
 "nbformat_minor": 5
}
