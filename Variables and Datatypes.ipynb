{
 "cells": [
  {
   "cell_type": "markdown",
   "id": "d8df5da7-0e67-476b-8b8a-8d5813c4df73",
   "metadata": {},
   "source": [
    "# Python for Beginners — Lesson 01: Variables & Data Types"
   ]
  },
  {
   "cell_type": "markdown",
   "id": "620d95b3-8e4e-4123-bab5-fa246f8d5417",
   "metadata": {},
   "source": [
    "**What you’ll learn**\n",
    "- Create and name variables\n",
    "- Work with the four basic data types: `int`, `float`, `str`, `bool`\n",
    "- Inspect types with `type()` and convert between types\n"
   ]
  },
  {
   "cell_type": "markdown",
   "id": "91d3aa0b-73b5-493f-ba11-79d75eefcf1d",
   "metadata": {},
   "source": [
    "## What are Variables?\n",
    "Variables are labels for values. You use them to store things like a user’s name, grades, prices, or results from a calculation.  \n",
    "Types (number, text, True/False) determine what operations are allowed.\n",
    "\n",
    "**Naming rules & style**\n",
    "- Start with a letter or `_` (not a number), use only letters, digits, `_`\n",
    "- Case-sensitive: `Age` and `age` are different\n",
    "- Pick clear, descriptive names"
   ]
  },
  {
   "cell_type": "code",
   "execution_count": null,
   "id": "3d2d9d31-a711-4a16-96f2-177b8feaaebb",
   "metadata": {},
   "outputs": [],
   "source": [
    "# Create a few variables\n",
    "age = 25               # int (whole number)\n",
    "height_m = 1.68        # float (decimal number)\n",
    "name = \"Richel\"        # str (text)\n",
    "is_student = True      # bool (True/False)\n",
    "\n",
    "# Print variables\n",
    "print(age, height_m, name, is_student)"
   ]
  },
  {
   "cell_type": "code",
   "execution_count": null,
   "id": "0d2621ba-2a6e-4404-ab9d-9f143ea421db",
   "metadata": {},
   "outputs": [],
   "source": [
    "# Check their types\n",
    "print(type(age), type(height_m), type(name), type(is_student))"
   ]
  },
  {
   "cell_type": "markdown",
   "id": "9d0f77f3-92ef-4407-86a9-4f9183dfb24d",
   "metadata": {},
   "source": [
    "## Core Data Types You’ll Use Today\n",
    "| Type  | What it represents      | Example           |\n",
    "|------:|--------------------------|-------------------|\n",
    "| `int` | Whole numbers            | `25`, `0`, `-3`   |\n",
    "| `float` | Decimal numbers        | `1.68`, `3.14`    |\n",
    "| `str` | Text (string)            | `\"Hello\"`, `\"3\"`  |\n",
    "| `bool` | True / False            | `True`, `False`   |"
   ]
  },
  {
   "cell_type": "markdown",
   "id": "ee311af7-70b4-4a05-b696-31b3d149ded9",
   "metadata": {},
   "source": [
    "> Tip: `\"25\"` (string) is not the same as `25` (int)."
   ]
  },
  {
   "cell_type": "code",
   "execution_count": null,
   "id": "9087d2a5-d663-4c90-9784-45c6d878454e",
   "metadata": {},
   "outputs": [],
   "source": [
    "x = \"5\"\n",
    "y = 5\n",
    "print(x * 2)  # text repetition\n",
    "print(y * 2)  # math multiplication"
   ]
  }
 ],
 "metadata": {
  "kernelspec": {
   "display_name": "Python 3 (ipykernel)",
   "language": "python",
   "name": "python3"
  },
  "language_info": {
   "codemirror_mode": {
    "name": "ipython",
    "version": 3
   },
   "file_extension": ".py",
   "mimetype": "text/x-python",
   "name": "python",
   "nbconvert_exporter": "python",
   "pygments_lexer": "ipython3",
   "version": "3.12.7"
  }
 },
 "nbformat": 4,
 "nbformat_minor": 5
}
