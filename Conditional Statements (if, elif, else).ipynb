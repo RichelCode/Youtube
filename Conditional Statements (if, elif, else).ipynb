{
 "cells": [
  {
   "cell_type": "markdown",
   "id": "e3da29da-8f2d-4fdd-9b2f-1139efe1e79b",
   "metadata": {},
   "source": [
    "# Python for Beginners — Lesson 03: Conditional Statements (if, elif, else)"
   ]
  },
  {
   "cell_type": "markdown",
   "id": "69eab2dd-cd80-4b74-87b0-04fa4fb2a1b1",
   "metadata": {},
   "source": [
    "##  What You’ll Learn\n",
    "\n",
    "* How Python makes decisions using `if`, `elif`, and `else`\n",
    "* How conditions work with **comparison operators** (`>`, `<`, `==`, etc.)\n",
    "* How to combine multiple conditions with `and`, `or`, `not`\n",
    "* Best practices for writing clean conditional code\n"
   ]
  },
  {
   "cell_type": "markdown",
   "id": "90bf8a27-4a2f-4de2-acb7-ab6426396437",
   "metadata": {},
   "source": [
    "## Why Conditions Matter\n",
    "\n",
    "Programs often need to **choose between different paths**.\n",
    "\n",
    "* Example:\n",
    "\n",
    "  * If a student’s grade is above 90 → print “Excellent!”\n",
    "  * Otherwise → print “Keep practicing.”\n",
    "\n",
    "This is what **conditional statements** allow us to do in Python."
   ]
  },
  {
   "cell_type": "code",
   "execution_count": null,
   "id": "2ca1a6f3-04ad-4d9b-83bb-559750b99945",
   "metadata": {},
   "outputs": [],
   "source": [
    "## Basic If Statement\n",
    "x = 10\n",
    "\n",
    "if x > 5:\n",
    "    print(\"x is greater than 5\")\n"
   ]
  },
  {
   "cell_type": "code",
   "execution_count": null,
   "id": "60362929-bd2b-4d35-a84f-ee9cab0e0a16",
   "metadata": {},
   "outputs": [],
   "source": [
    "## If–Else Statement\n",
    "age = 16\n",
    "\n",
    "if age >= 18:\n",
    "    print(\"You are an adult.\")\n",
    "else:\n",
    "    print(\"You are a minor.\")"
   ]
  },
  {
   "cell_type": "code",
   "execution_count": null,
   "id": "46d1114e-ff27-4d8d-91b9-d13a8207ecf7",
   "metadata": {},
   "outputs": [],
   "source": [
    "# If–Elif–Else (Multiple Conditions)\n",
    "\n",
    "score = 85\n",
    "\n",
    "if score >= 90:\n",
    "    print(\"Grade: A\")\n",
    "elif score >= 75:\n",
    "    print(\"Grade: B\")\n",
    "elif score >= 60:\n",
    "    print(\"Grade: C\")\n",
    "else:\n",
    "    print(\"Grade: F\")"
   ]
  },
  {
   "cell_type": "markdown",
   "id": "e6d463db-9b3f-49c1-956d-2baf3e00d5fa",
   "metadata": {},
   "source": [
    "## Comparison Operators\n",
    "\n",
    "| Operator | Meaning              |\n",
    "|----------|----------------------|\n",
    "| `==`     | equal to             |\n",
    "| `!=`     | not equal to         |\n",
    "| `>`      | greater than         |\n",
    "| `<`      | less than            |\n",
    "| `>=`     | greater or equal     |\n",
    "| `<=`     | less or equal        |\n"
   ]
  },
  {
   "cell_type": "markdown",
   "id": "385eac7f-0a46-4234-a037-a358a7940da9",
   "metadata": {},
   "source": [
    "## Logical Operators\n",
    "\n",
    "Logical operators allow us to build more complex rules by connecting simple conditions:\n",
    "\n",
    "1. **`and`** → Both conditions must be `True` for the whole expression to be `True`.  \n",
    "   - Example: \"The student must be **over 18** **and** **enrolled** to enter.\"  \n",
    "   - If either part is `False`, the whole thing is `False`.  \n",
    "\n",
    "2. **`or`** → At least one condition must be `True`.  \n",
    "   - Example: \"You can buy a ticket if you are a **student** **or** **a senior citizen**.\"  \n",
    "   - If either is `True`, access is granted.  \n",
    "\n",
    "3. **`not`** → Reverses a condition (flips `True` to `False`, and `False` to `True`).  \n",
    "   - Example: \"Enter if it is **not raining**.\"  \n",
    "   - If `is_raining = True`, then `not is_raining = False`. "
   ]
  },
  {
   "cell_type": "markdown",
   "id": "6ca9e33b-962c-4241-bbab-68bb23c34efc",
   "metadata": {},
   "source": [
    "You can combine conditions with logical operators."
   ]
  },
  {
   "cell_type": "code",
   "execution_count": null,
   "id": "5ce978c9-ce82-44d3-b102-9f48252020b2",
   "metadata": {},
   "outputs": [],
   "source": [
    "## Example\n",
    "age = 20\n",
    "is_student = True\n",
    "\n",
    "if age < 25 and is_student:\n",
    "    print(\"Discount applies!\")"
   ]
  },
  {
   "cell_type": "code",
   "execution_count": null,
   "id": "5101379b-dad0-4e74-ba57-88b516c2734c",
   "metadata": {},
   "outputs": [],
   "source": [
    "temperature = 30\n",
    "\n",
    "if temperature < 0 or temperature > 25:\n",
    "    print(\"Stay indoors!\")"
   ]
  },
  {
   "cell_type": "code",
   "execution_count": null,
   "id": "e7347f08-52b6-4caa-b9b1-b68469bfe7b3",
   "metadata": {},
   "outputs": [],
   "source": [
    "is_raining = False\n",
    "\n",
    "if not is_raining:\n",
    "    print(\"Go outside and play!\")"
   ]
  },
  {
   "cell_type": "markdown",
   "id": "da14b2a8-e7a9-424e-ac52-b7f061b90577",
   "metadata": {},
   "source": [
    "## Indentation Rules\n",
    "\n",
    "* Python uses **indentation (spaces)** to define blocks of code.\n",
    "* Convention: 4 spaces per level.\n",
    "* Mixing tabs and spaces → errors.\n"
   ]
  },
  {
   "cell_type": "code",
   "execution_count": null,
   "id": "42484280-a0cb-4169-a44f-a2ca0f51599f",
   "metadata": {},
   "outputs": [],
   "source": [
    "num = 5\n",
    "\n",
    "if num > 0:\n",
    "    print(\"Positive number\")\n",
    "    print(\"Still inside the if block\")\n",
    "print(\"This is outside the if block\")"
   ]
  },
  {
   "cell_type": "markdown",
   "id": "067fd8ef-8fd3-478b-82f5-1bd890a8e2d6",
   "metadata": {},
   "source": [
    "* `if` checks a condition; code runs only if it’s True.\n",
    "* `elif` adds more options; `else` handles “everything else.”\n",
    "* Use comparison (`==`, `!=`, `<`, etc.) and logical (`and`, `or`, `not`) operators.\n",
    "* Indentation matters in Python!\n"
   ]
  }
 ],
 "metadata": {
  "kernelspec": {
   "display_name": "Python 3 (ipykernel)",
   "language": "python",
   "name": "python3"
  },
  "language_info": {
   "codemirror_mode": {
    "name": "ipython",
    "version": 3
   },
   "file_extension": ".py",
   "mimetype": "text/x-python",
   "name": "python",
   "nbconvert_exporter": "python",
   "pygments_lexer": "ipython3",
   "version": "3.12.7"
  }
 },
 "nbformat": 4,
 "nbformat_minor": 5
}
