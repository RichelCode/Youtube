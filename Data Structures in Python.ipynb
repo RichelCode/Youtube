{
 "cells": [
  {
   "cell_type": "markdown",
   "id": "19de711f-f1bf-48d8-8138-6115fdb95737",
   "metadata": {},
   "source": [
    "# Python for Beginners — Lesson 05: Data Structures in Python"
   ]
  },
  {
   "cell_type": "markdown",
   "id": "0fb9087e-631b-4738-9fa4-8782fd1c39c6",
   "metadata": {},
   "source": [
    "## What You’ll Learn\n",
    "- The four main built-in data structures in Python  \n",
    "- Lists → ordered, changeable collections  \n",
    "- Tuples → ordered, unchangeable collections  \n",
    "- Sets → unordered, unique elements  \n",
    "- Dictionaries → key–value pairs  \n",
    "- When to use each type  "
   ]
  },
  {
   "cell_type": "markdown",
   "id": "f004aa65-86a3-4b53-b570-a10dffadf9ad",
   "metadata": {},
   "source": [
    "##  1. Lists\n",
    "- Ordered collection of items (like a sequence).  \n",
    "- Changeable (mutable).  \n",
    "- Elements can be of mixed data types.  \n"
   ]
  },
  {
   "cell_type": "code",
   "execution_count": null,
   "id": "db45e532-40e5-4c3c-97e4-169200fbc6ce",
   "metadata": {},
   "outputs": [],
   "source": [
    "fruits = [\"apple\", \"banana\", \"cherry\"]\n",
    "\n",
    "print(fruits)          # ['apple', 'banana', 'cherry']\n",
    "print(fruits[0])       # access by index → apple\n",
    "\n",
    "fruits[1] = \"orange\"   # modify an item\n",
    "print(fruits)          # ['apple', 'orange', 'cherry']\n",
    "\n",
    "fruits.append(\"mango\") # add new item\n",
    "print(fruits)\n",
    "\n",
    "print(len(fruits))     # number of elements\n"
   ]
  },
  {
   "cell_type": "markdown",
   "id": "86ce166d-c9bd-4431-a58a-4c7c84e26c3e",
   "metadata": {},
   "source": [
    "##  2. Tuples\n",
    "- Ordered like lists, **but immutable** (cannot be changed after creation).  \n",
    "- Good for fixed collections of values.  \n"
   ]
  },
  {
   "cell_type": "code",
   "execution_count": null,
   "id": "69b63d22-2da5-464e-9944-5c122f3fc7e8",
   "metadata": {},
   "outputs": [],
   "source": [
    "coordinates = (10.5, 20.7)\n",
    "print(coordinates)\n",
    "print(coordinates[0])   # 10.5\n",
    "\n",
    "# coordinates[0] = 50  # ❌ Error: cannot modify a tuple"
   ]
  },
  {
   "cell_type": "markdown",
   "id": "a1ab92fe-2530-4ba0-8877-e0184c2a333c",
   "metadata": {},
   "source": [
    "##  3. Sets\n",
    "- Unordered, unindexed collection.  \n",
    "- No duplicate elements.  \n",
    "- Useful for membership tests and removing duplicates.  \n"
   ]
  },
  {
   "cell_type": "code",
   "execution_count": null,
   "id": "17cb9544-e22a-4214-93bf-0f0449adf2c9",
   "metadata": {},
   "outputs": [],
   "source": [
    "numbers = {1, 2, 3, 2, 1}\n",
    "print(numbers)   # {1, 2, 3} → duplicates removed\n",
    "\n",
    "numbers.add(4)\n",
    "print(numbers)\n",
    "\n",
    "print(2 in numbers)  # membership test → True\n"
   ]
  },
  {
   "cell_type": "markdown",
   "id": "98f97b6d-988d-4387-a156-63a994e506a8",
   "metadata": {},
   "source": [
    "##  4. Dictionaries\n",
    "- Store data as **key–value pairs**.  \n",
    "- Keys must be unique and immutable (like strings, numbers, tuples).  \n",
    "- Values can be anything.  \n"
   ]
  },
  {
   "cell_type": "code",
   "execution_count": null,
   "id": "764c8f2f-de18-486e-b41d-873fbd6817e2",
   "metadata": {},
   "outputs": [],
   "source": [
    "student = {\n",
    "    \"name\": \"Richel\",\n",
    "    \"age\": 25,\n",
    "    \"is_student\": True\n",
    "}\n",
    "\n",
    "print(student[\"name\"])     # Richel\n",
    "print(student.get(\"age\"))  # 25\n",
    "\n",
    "student[\"age\"] = 26        # update value\n",
    "student[\"grade\"] = \"A\"     # add new key–value\n",
    "print(student)\n"
   ]
  },
  {
   "cell_type": "markdown",
   "id": "2629b637-0421-4404-883c-7351f56538c8",
   "metadata": {},
   "source": [
    "##  When to Use What?\n",
    "- **List** → when you need an ordered, changeable collection.  \n",
    "- **Tuple** → when you want a fixed, unchangeable collection.  \n",
    "- **Set** → when you need unique items or fast membership checks.  \n",
    "- **Dictionary** → when you need key → value mappings (like a database record).  \n"
   ]
  },
  {
   "cell_type": "markdown",
   "id": "84edcc06-80ca-43e6-850b-906466b39164",
   "metadata": {},
   "source": [
    "## Quick Recap\n",
    "- Lists → mutable sequences  \n",
    "- Tuples → immutable sequences  \n",
    "- Sets → unique, unordered collections  \n",
    "- Dictionaries → key–value pairs  \n"
   ]
  }
 ],
 "metadata": {
  "kernelspec": {
   "display_name": "Python 3 (ipykernel)",
   "language": "python",
   "name": "python3"
  },
  "language_info": {
   "codemirror_mode": {
    "name": "ipython",
    "version": 3
   },
   "file_extension": ".py",
   "mimetype": "text/x-python",
   "name": "python",
   "nbconvert_exporter": "python",
   "pygments_lexer": "ipython3",
   "version": "3.12.7"
  }
 },
 "nbformat": 4,
 "nbformat_minor": 5
}
