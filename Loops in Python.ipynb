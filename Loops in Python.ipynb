{
 "cells": [
  {
   "cell_type": "markdown",
   "id": "415f2f5b-f548-4db2-b347-dd40038e53ab",
   "metadata": {},
   "source": [
    "# Python for Beginners — Lesson 04: Loops in Python"
   ]
  },
  {
   "cell_type": "markdown",
   "id": "8d980303-6edd-498c-aea0-9903be1985bc",
   "metadata": {},
   "source": [
    "##  What You’ll Learn\n",
    "- Why loops are useful in programming  \n",
    "- The difference between `for` loops and `while` loops  \n",
    "- How to use `range()` with loops  \n",
    "- Loop control keywords: `break`, `continue`, `pass`  \n"
   ]
  },
  {
   "cell_type": "markdown",
   "id": "8e02bdfb-b4ff-4f3a-ac17-0a49483f2f49",
   "metadata": {},
   "source": [
    "##  Why Loops?\n",
    "Loops let us **repeat tasks** without writing the same code over and over.  \n",
    "\n",
    " Example in real life:  \n",
    "- \"Say hello to 5 friends\" → instead of writing `print(\"Hello\")` 5 times, we use a loop.  \n",
    "\n",
    "Python gives us two main kinds of loops:  \n",
    "1. **`for` loop** → repeat a block of code a fixed number of times (or over a sequence).  \n",
    "2. **`while` loop** → repeat a block of code **as long as** a condition is True.  \n"
   ]
  },
  {
   "cell_type": "markdown",
   "id": "27dee0b8-c081-4ffc-9749-1a20dfeb8f07",
   "metadata": {},
   "source": [
    "## For Loops\n",
    "A `for` loop is used to iterate (go through) a sequence like a list, string, or a range of numbers.  "
   ]
  },
  {
   "cell_type": "code",
   "execution_count": null,
   "id": "d722fc19-2fac-4031-ba9d-d71e835c27b9",
   "metadata": {},
   "outputs": [],
   "source": [
    "# Example\n",
    "\n",
    "for i in range(5):\n",
    "    print(\"Hello\", i)\n",
    "\n",
    "## `range(5)` generates numbers from `0` to `4`."
   ]
  },
  {
   "cell_type": "markdown",
   "id": "29994413-f287-461b-8c84-87182d420a20",
   "metadata": {},
   "source": [
    "### Iterating over a list"
   ]
  },
  {
   "cell_type": "code",
   "execution_count": null,
   "id": "9ff52fef-d81e-4bd5-af70-8f5100326cc1",
   "metadata": {},
   "outputs": [],
   "source": [
    "fruits = [\"apple\", \"banana\", \"cherry\"]\n",
    "\n",
    "for fruit in fruits:\n",
    "    print(\"I like\", fruit)\n"
   ]
  },
  {
   "cell_type": "markdown",
   "id": "465bc648-c61d-4db2-a084-7296e1e92604",
   "metadata": {},
   "source": [
    "##  While Loops\n",
    "A `while` loop runs **as long as a condition is True**."
   ]
  },
  {
   "cell_type": "code",
   "execution_count": null,
   "id": "6570692b-5a72-4e24-bb60-883457b65619",
   "metadata": {},
   "outputs": [],
   "source": [
    "count = 1\n",
    "\n",
    "while count <= 5:\n",
    "    print(\"Count is:\", count)\n",
    "    count += 1  # increase count each time\n"
   ]
  },
  {
   "cell_type": "markdown",
   "id": "f1fffeb6-72e9-45b7-9f1e-3f3734b054ee",
   "metadata": {},
   "source": [
    "## Loop Control Statements\n",
    "\n",
    "Sometimes we want more control over our loops:\n",
    "\n",
    "1. **`break`** → stop the loop completely  \n",
    "2. **`continue`** → skip the current iteration and move to the next  \n",
    "3. **`pass`** → do nothing (placeholder)\n"
   ]
  },
  {
   "cell_type": "code",
   "execution_count": null,
   "id": "18d15973-91e1-4a3b-831d-9b71ebf502a1",
   "metadata": {},
   "outputs": [],
   "source": [
    "# Example with break\n",
    "for i in range(10):\n",
    "    if i == 5:\n",
    "        break\n",
    "    print(i)"
   ]
  },
  {
   "cell_type": "code",
   "execution_count": null,
   "id": "0f1b118b-0d3e-4430-a854-e99ca18c62f9",
   "metadata": {},
   "outputs": [],
   "source": [
    "# Example with continue\n",
    "for i in range(5):\n",
    "    if i == 2:\n",
    "        continue\n",
    "    print(i)"
   ]
  },
  {
   "cell_type": "code",
   "execution_count": 3,
   "id": "6f03a99a-c5e8-4afb-8d5d-cf924994ee66",
   "metadata": {},
   "outputs": [],
   "source": [
    "# Example with pass\n",
    "for i in range(3):\n",
    "    pass  # does nothing"
   ]
  },
  {
   "cell_type": "markdown",
   "id": "b7cc4ddd-b445-4723-841c-e9f1084e896d",
   "metadata": {},
   "source": [
    "break → stops the loop completely (no more numbers at all).\n",
    "\n",
    "continue → skips just this one iteration and moves on."
   ]
  },
  {
   "cell_type": "markdown",
   "id": "60b646ff-453c-4c22-b4df-b30846a8a824",
   "metadata": {},
   "source": [
    "## Quick Recap\n",
    "- Use `for` loops to iterate over sequences or a known range.  \n",
    "- Use `while` loops when you don’t know in advance how many times you’ll repeat.  \n",
    "- `break`, `continue`, and `pass` give you more control.  \n"
   ]
  }
 ],
 "metadata": {
  "kernelspec": {
   "display_name": "Python 3 (ipykernel)",
   "language": "python",
   "name": "python3"
  },
  "language_info": {
   "codemirror_mode": {
    "name": "ipython",
    "version": 3
   },
   "file_extension": ".py",
   "mimetype": "text/x-python",
   "name": "python",
   "nbconvert_exporter": "python",
   "pygments_lexer": "ipython3",
   "version": "3.12.7"
  }
 },
 "nbformat": 4,
 "nbformat_minor": 5
}
