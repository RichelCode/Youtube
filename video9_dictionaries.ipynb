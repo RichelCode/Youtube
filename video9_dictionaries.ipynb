{
 "cells": [
  {
   "cell_type": "markdown",
   "id": "ad099cee",
   "metadata": {},
   "source": [
    "## Python for Beginners — Lesson 09:Python Dictionaries (Basics)\n",
    "\n",
    "**What you will learn in this video:**\n",
    "- Understand what a dictionary is: a collection of key–value pairs.\n",
    "- Learn how to create dictionaries using literal syntax and the `dict()` constructor.\n",
    "- Access, update and remove items by key.\n",
    "- Explore common dictionary methods and how to iterate over keys and values.\n",
    "\n",
    "Think of a dictionary like a real-life dictionary. Each word (key) maps to a definition (value). You can look up a word quickly and update definitions when needed. Python dictionaries work the same way but with any data types as keys and values.\n"
   ]
  },
  {
   "cell_type": "markdown",
   "id": "4cf76cfc",
   "metadata": {},
   "source": [
    "## Creating dictionaries\n",
    "\n",
    "You can create dictionaries in two common ways:\n",
    "\n",
    "* **Dictionary literal:** use curly braces with comma‑separated `key: value` pairs.\n",
    "* **`dict()` constructor:** call the `dict()` function to build a dictionary from keyword arguments or an iterable of key‑value pairs【905469194773112†L296-L303】.\n"
   ]
  },
  {
   "cell_type": "code",
   "execution_count": 1,
   "id": "49a42129",
   "metadata": {},
   "outputs": [
    {
     "name": "stdout",
     "output_type": "stream",
     "text": [
      "{'name': 'Alice', 'age': 30, 'city': 'New York'}\n"
     ]
    }
   ],
   "source": [
    "# Creating a dictionary using a literal\n",
    "person = {\n",
    "    \"name\": \"Alice\",\n",
    "    \"age\": 30,\n",
    "    \"city\": \"New York\"\n",
    "}\n",
    "print(person)\n"
   ]
  },
  {
   "cell_type": "code",
   "execution_count": 2,
   "id": "1598c33a",
   "metadata": {},
   "outputs": [
    {
     "name": "stdout",
     "output_type": "stream",
     "text": [
      "{'x': 10, 'y': 20}\n"
     ]
    }
   ],
   "source": [
    "# Creating a dictionary using dict()\n",
    "coordinates = dict(x=10, y=20)\n",
    "print(coordinates)\n"
   ]
  },
  {
   "cell_type": "code",
   "execution_count": 3,
   "id": "a9d5d83a",
   "metadata": {},
   "outputs": [
    {
     "name": "stdout",
     "output_type": "stream",
     "text": [
      "Alice\n",
      "30\n",
      "Not provided\n"
     ]
    }
   ],
   "source": [
    "# Accessing values\n",
    "print(person[\"name\"])      # prints 'Alice'\n",
    "print(person.get(\"age\"))   # prints 30\n",
    "print(person.get(\"email\", \"Not provided\"))  # prints 'Not provided' because key doesn't exist\n"
   ]
  },
  {
   "cell_type": "markdown",
   "id": "bca47a4b",
   "metadata": {},
   "source": [
    "## Modifying dictionaries\n",
    "\n",
    "Dictionaries are mutable: you can change, add or remove items after creation【721307640067348†L955-L960】. Assign a new value to an existing key to update it. Use `del` or `.pop()` to remove items.\n"
   ]
  },
  {
   "cell_type": "code",
   "execution_count": 4,
   "id": "b39b8ed7",
   "metadata": {},
   "outputs": [
    {
     "name": "stdout",
     "output_type": "stream",
     "text": [
      "{'name': 'Alice', 'age': 31, 'city': 'New York', 'email': 'alice@example.com'}\n",
      "Removed: New York\n",
      "{'name': 'Alice', 'age': 31, 'email': 'alice@example.com'}\n"
     ]
    }
   ],
   "source": [
    "# Updating, adding, and removing items\n",
    "person[\"age\"] = 31       # update existing key\n",
    "person[\"email\"] = \"alice@example.com\"  # add new key\n",
    "print(person)\n",
    "\n",
    "# remove a key\n",
    "removed_value = person.pop(\"city\")  # removes and returns the value of 'city'\n",
    "print(\"Removed:\", removed_value)\n",
    "print(person)\n"
   ]
  },
  {
   "cell_type": "markdown",
   "id": "54dae16c",
   "metadata": {},
   "source": [
    "## Dictionary methods\n",
    "\n",
    "Common dictionary methods include:\n",
    "\n",
    "* `.keys()` – returns a view of the dictionary’s keys.\n",
    "* `.values()` – returns a view of the dictionary’s values.\n",
    "* `.items()` – returns a view of `(key, value)` pairs.\n",
    "* `.update(other_dict)` – merges another dictionary into the current one.\n",
    "* `.clear()` – removes all items.\n"
   ]
  },
  {
   "cell_type": "code",
   "execution_count": 5,
   "id": "bfa72e1f",
   "metadata": {},
   "outputs": [
    {
     "name": "stdout",
     "output_type": "stream",
     "text": [
      "Keys: dict_keys(['name', 'age', 'email'])\n",
      "Values: dict_values(['Alice', 31, 'alice@example.com'])\n",
      "Items: dict_items([('name', 'Alice'), ('age', 31), ('email', 'alice@example.com')])\n",
      "{'name': 'Alice', 'age': 31, 'email': 'alice@example.com', 'job': 'Engineer', 'married': True}\n"
     ]
    }
   ],
   "source": [
    "# Using dictionary methods\n",
    "print(\"Keys:\", person.keys())\n",
    "print(\"Values:\", person.values())\n",
    "print(\"Items:\", person.items())\n",
    "\n",
    "# Updating with another dictionary\n",
    "extra_info = {\"job\": \"Engineer\", \"married\": True}\n",
    "person.update(extra_info)\n",
    "print(person)\n"
   ]
  }
 ],
 "metadata": {
  "kernelspec": {
   "display_name": "Python 3 (ipykernel)",
   "language": "python",
   "name": "python3"
  },
  "language_info": {
   "codemirror_mode": {
    "name": "ipython",
    "version": 3
   },
   "file_extension": ".py",
   "mimetype": "text/x-python",
   "name": "python",
   "nbconvert_exporter": "python",
   "pygments_lexer": "ipython3",
   "version": "3.12.7"
  }
 },
 "nbformat": 4,
 "nbformat_minor": 5
}
